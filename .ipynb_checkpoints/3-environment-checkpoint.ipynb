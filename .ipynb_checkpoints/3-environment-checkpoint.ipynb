{
 "cells": [
  {
   "cell_type": "markdown",
   "metadata": {},
   "source": [
    "# The Bash Environment"
   ]
  },
  {
   "cell_type": "markdown",
   "metadata": {},
   "source": [
    "### Introduction"
   ]
  },
  {
   "cell_type": "markdown",
   "metadata": {},
   "source": [
    "One of the uses of our shell is to store information for our programs to run -- for example, certain configuration settings.  We store this information called in our **environment**.    Let's get started."
   ]
  },
  {
   "cell_type": "markdown",
   "metadata": {},
   "source": [
    "### Exploring the Environment"
   ]
  },
  {
   "cell_type": "markdown",
   "metadata": {},
   "source": [
    "We can begin by exploring the environment with the `printenv`."
   ]
  },
  {
   "cell_type": "code",
   "execution_count": 2,
   "metadata": {},
   "outputs": [
    {
     "name": "stdout",
     "output_type": "stream",
     "text": [
      "MANPATH=/Users/jeff/.nvm/versions/node/v8.9.3/share/man:/usr/local/share/man:/usr/share/man:/opt/X11/share/man:/Library/Apple/usr/share/man:/Users/jeff/.rvm/share/man:/Library/Developer/CommandLineTools/SDKs/MacOSX.sdk/usr/share/man:/Library/Developer/CommandLineTools/usr/share/man\n",
      "TERM_PROGRAM=iTerm.app\n",
      "rvm_bin_path=/Users/jeff/.rvm/bin\n",
      "NVM_CD_FLAGS=\n",
      "GEM_HOME=/Users/jeff/.rvm/gems/ruby-2.5.3\n"
     ]
    }
   ],
   "source": [
    "!printenv | head -n 5"
   ]
  },
  {
   "cell_type": "markdown",
   "metadata": {},
   "source": [
    "As we can see, the environment has a list of **environmental variables** and their corresponding values.  We can find a specific variable by using `printenv` followed by the name of the variable.  "
   ]
  },
  {
   "cell_type": "code",
   "execution_count": 3,
   "metadata": {},
   "outputs": [
    {
     "name": "stdout",
     "output_type": "stream",
     "text": [
      "iTerm.app\n"
     ]
    }
   ],
   "source": [
    "!printenv TERM_PROGRAM"
   ]
  },
  {
   "cell_type": "markdown",
   "metadata": {},
   "source": [
    "Another way to see the value of a variable is by using the `echo` like so:"
   ]
  },
  {
   "cell_type": "code",
   "execution_count": 4,
   "metadata": {},
   "outputs": [
    {
     "name": "stdout",
     "output_type": "stream",
     "text": [
      "1\n"
     ]
    }
   ],
   "source": [
    "!echo $CLICOLOR"
   ]
  },
  {
   "cell_type": "markdown",
   "metadata": {},
   "source": [
    "### Changing our Environment"
   ]
  },
  {
   "cell_type": "markdown",
   "metadata": {},
   "source": [
    "Above we saw how to read environmental variables with the `printenv` command.  We can set or update environment variables with the export command.  These variables can be whatever name we prefer."
   ]
  },
  {
   "cell_type": "markdown",
   "metadata": {},
   "source": [
    "<img src=\"./foo-bar-env.png\" width=\"50%\">"
   ]
  },
  {
   "cell_type": "markdown",
   "metadata": {},
   "source": [
    "And we can remove this environmental variable with the unset command, and then see that the variable no longer exists."
   ]
  },
  {
   "cell_type": "markdown",
   "metadata": {},
   "source": [
    "<img src=\"./unset-foo.png\" width=\"60%\">"
   ]
  },
  {
   "cell_type": "markdown",
   "metadata": {},
   "source": [
    "It may seem like changes we make to the environment is rather fixed, but really above all we did was set local or *session environmental variable*.  Simply by exiting the terminal, or even by opening another tab in the terminal, we will see that those variables no longer apply."
   ]
  },
  {
   "cell_type": "markdown",
   "metadata": {},
   "source": [
    "### More Permanent Variables"
   ]
  },
  {
   "cell_type": "markdown",
   "metadata": {},
   "source": [
    "If the environment variables only exist during the duration of a shell session, why did we see all of those environmental variables display with our `printenv` command above?  \n",
    "\n",
    "It turns out that when we open our shell, we begin a *login shell session*.  \n",
    "\n",
    "> And if we create a new tab in the shell, this new tab also gets a login shell session.  \n",
    "\n",
    "Now, when a login shell session begins, the shell reads a number of different files that it uses to setup the environment.  This includes the `/etc/profile` file which includes global configuration, as well as as `~/.bash_profile` file which is for the logged in user.  \n",
    "\n",
    "Let's modify the `~/.bash_profile` so that we get a new environmental variable everytime we begin a new shell session."
   ]
  },
  {
   "cell_type": "markdown",
   "metadata": {},
   "source": [
    "<img src=\"./bash_profile.png\" width=\"60%\">"
   ]
  },
  {
   "cell_type": "markdown",
   "metadata": {},
   "source": [
    "So if we open up a new tab, we'll then see this environmental variable.\n",
    "\n",
    "> However, if we try to access the environmental variable from a shell that was already open, we will not be able to access the environmental variable.  This is because, for an existing shell session, the `.bash_profile` file would not have been run.  \n",
    "\n",
    "> If we wish to explicitly run it, we can with the command `source ~/.bash_profile`."
   ]
  },
  {
   "cell_type": "markdown",
   "metadata": {},
   "source": [
    "### Understanding Path"
   ]
  },
  {
   "cell_type": "markdown",
   "metadata": {},
   "source": [
    "Now there is one environmental variable that often comes up, and that is the PATH.  It turns out that we we use the path when use a command line program like `conda`.  "
   ]
  },
  {
   "cell_type": "markdown",
   "metadata": {},
   "source": [
    "<img src=\"./conda_env.png\" width=\"50%\">"
   ]
  },
  {
   "cell_type": "markdown",
   "metadata": {},
   "source": [
    "> Conda let's us install anaconda packages, just like pip packages.  \n",
    "\n",
    "It turns out that if we have anaconda installed, we can access the conda command from any directory in our Home folder (for me, within `Users/jeff`).  How do we have the shell know where to find our program?\n",
    "\n",
    "To do so, our computer is using the PATH environmental variable."
   ]
  },
  {
   "cell_type": "markdown",
   "metadata": {},
   "source": [
    "<img src=\"./understanding_path.png\" width=\"80%\">"
   ]
  },
  {
   "cell_type": "markdown",
   "metadata": {},
   "source": [
    "The PATH is a list of directories where the shell looks for executable files.  Each of these directories is separated by a colon.  \n",
    "\n",
    "If you look above, we can see that the directories in my path are located in different ruby gems folders, or the conda bin.  The conda program is likely located in our `condabin` directory.  And if we navigate to that directory, that's what we find."
   ]
  },
  {
   "cell_type": "markdown",
   "metadata": {},
   "source": [
    "<img src=\"./executing_conda.png\"  width=\"60%\">"
   ]
  },
  {
   "cell_type": "markdown",
   "metadata": {},
   "source": [
    "So we can see that, when we use command line program like `conda`, the shell finds that program by looking in our current directory, and then looking at any of the `:` separated directories listed in the path environmental variable."
   ]
  },
  {
   "cell_type": "markdown",
   "metadata": {},
   "source": [
    "Now take a look at the selected lines, in my `bash_profile`, which add new directories to the path."
   ]
  },
  {
   "cell_type": "markdown",
   "metadata": {},
   "source": [
    "<img src=\"./add_to_path.png\" width=\"40%\">"
   ]
  },
  {
   "cell_type": "markdown",
   "metadata": {},
   "source": [
    "The append simply by reassigning our variable to our new text followed by the old PATH variable.  So in that first line, we set the PATH environmental variable to `~/anaconda3/bin:` followed by the already existing PATH.  And then the next line appends the path of `~/.local/bin` to the PATH."
   ]
  },
  {
   "cell_type": "markdown",
   "metadata": {},
   "source": [
    "### Summary"
   ]
  },
  {
   "cell_type": "markdown",
   "metadata": {},
   "source": [
    "In this lesson, we learned about environmental variables.  We saw that we can read environmental variables with the `printenv`, where `printenv USER` will print the value for user, and just specifying `printenv` will print all environmental variables.  We can add a new environmental variable with `export`.\n",
    "\n",
    "We saw that environmental variables are reloaded every time that we begin a new shell session -- so any environmental variables set through the command line will be lost with a new session.  To load our environmental variable with each shell session, we can modify the `.bash_profile`, which is loaded with each shell session.\n",
    "\n",
    "Then we finished up by learning about the PATH environmental variable.  As we saw, the PATH is a list of directories where the shell looks for executable files.  "
   ]
  },
  {
   "cell_type": "markdown",
   "metadata": {},
   "source": [
    "<img src=\"./understanding_path.png\" width=\"80%\">"
   ]
  },
  {
   "cell_type": "markdown",
   "metadata": {},
   "source": [
    "Each of these directories is separated by a colon.  "
   ]
  },
  {
   "cell_type": "markdown",
   "metadata": {},
   "source": [
    "We can append to our PATH with something like:"
   ]
  },
  {
   "cell_type": "markdown",
   "metadata": {},
   "source": [
    "<img src=\"./add_to_path.png\" width=\"40%\">"
   ]
  },
  {
   "cell_type": "markdown",
   "metadata": {},
   "source": [
    "For example, above we are using the `=` to append `~/anaconda3/bin` to the existing PATH."
   ]
  },
  {
   "cell_type": "markdown",
   "metadata": {},
   "source": [
    "### Resources\n",
    "\n",
    "[Understanding Path](https://thoughtbot.com/blog/following-the-path)\n",
    "\n",
    "[Python Path](https://www.devdungeon.com/content/python-import-syspath-and-pythonpath-tutorial#toc-13)"
   ]
  }
 ],
 "metadata": {
  "kernelspec": {
   "display_name": "Python 3",
   "language": "python",
   "name": "python3"
  },
  "language_info": {
   "codemirror_mode": {
    "name": "ipython",
    "version": 3
   },
   "file_extension": ".py",
   "mimetype": "text/x-python",
   "name": "python",
   "nbconvert_exporter": "python",
   "pygments_lexer": "ipython3",
   "version": "3.9.1"
  }
 },
 "nbformat": 4,
 "nbformat_minor": 4
}
